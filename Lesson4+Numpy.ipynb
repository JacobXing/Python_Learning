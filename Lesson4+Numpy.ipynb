{
 "cells": [
  {
   "cell_type": "markdown",
   "metadata": {},
   "source": [
    "## 1. 创建Numpy数组"
   ]
  },
  {
   "cell_type": "code",
   "execution_count": 5,
   "metadata": {},
   "outputs": [
    {
     "name": "stdout",
     "output_type": "stream",
     "text": [
      "[1 2 3]\n"
     ]
    },
    {
     "data": {
      "text/plain": [
       "numpy.ndarray"
      ]
     },
     "execution_count": 5,
     "metadata": {},
     "output_type": "execute_result"
    }
   ],
   "source": [
    "import numpy as np\n",
    "\n",
    "# 创建一维数组\n",
    "value=[1,2,3]\n",
    "arr1d=np.array(value) #使用np.array函数，从列表创建数组\n",
    "print(arr1d)\n",
    "type(arr1d)"
   ]
  },
  {
   "cell_type": "code",
   "execution_count": 10,
   "metadata": {},
   "outputs": [
    {
     "name": "stdout",
     "output_type": "stream",
     "text": [
      "[['name', 'gender', 'age'], ['Tom', 'Male', '18']]\n",
      "2\n",
      "(2, 3)\n"
     ]
    }
   ],
   "source": [
    "# 创建二维数组\n",
    "value2=[[\"name\",\"gender\",\"age\"],[\"Tom\",\"Male\",\"18\"]]\n",
    "arr2d=np.array(value2)\n",
    "print(value2)\n",
    "value2\n",
    "print(arr2d.ndim) #查看数组arr2d维度\n",
    "print(arr2d.shape) #查看数组行数，列数"
   ]
  },
  {
   "cell_type": "code",
   "execution_count": 26,
   "metadata": {},
   "outputs": [
    {
     "data": {
      "text/plain": [
       "array([[ 8, 12, 16, 11,  3],\n",
       "       [ 9,  8, 20, 26,  9],\n",
       "       [ 7, 17, 21,  3, 22]])"
      ]
     },
     "execution_count": 26,
     "metadata": {},
     "output_type": "execute_result"
    }
   ],
   "source": [
    "np.zeros((3,5))\n",
    "#np.ones(5)\n",
    "#np.empty(5)\n",
    "#np.arange(3,10,3)\n",
    "np.random.randint(1,30,size=(3,5))"
   ]
  },
  {
   "cell_type": "markdown",
   "metadata": {},
   "source": [
    "## 2. 索引和切片"
   ]
  },
  {
   "cell_type": "code",
   "execution_count": 49,
   "metadata": {},
   "outputs": [
    {
     "name": "stdout",
     "output_type": "stream",
     "text": [
      "[[ 3  7  3  5]\n",
      " [ 3  9  3  3]\n",
      " [ 2  4  5  6]\n",
      " [ 6  2  6 11]]\n"
     ]
    }
   ],
   "source": [
    "arr1=np.random.randint(1,10,size=7)\n",
    "#print (arr1)\n",
    "\n",
    "arr2=np.random.randint(1,12,size=(4,4))\n",
    "print(arr2)"
   ]
  },
  {
   "cell_type": "code",
   "execution_count": 71,
   "metadata": {},
   "outputs": [
    {
     "data": {
      "text/plain": [
       "array([9, 4])"
      ]
     },
     "execution_count": 71,
     "metadata": {},
     "output_type": "execute_result"
    }
   ],
   "source": [
    "#arr1[1:5:2]\n",
    "#arr1[2]=7\n",
    "#print(arr1)\n",
    "\n",
    "arr2[1,1:3] #取arr2第2行第2到3列元素\n",
    "arr2[1:3,1] #取arr2第2，3行第2列元素,也可写为arr2[[1,2],1] "
   ]
  },
  {
   "cell_type": "code",
   "execution_count": 63,
   "metadata": {},
   "outputs": [
    {
     "name": "stdout",
     "output_type": "stream",
     "text": [
      "arr3_1d= [ 1  2  3  4  5  6  7  8  9 10 11 12 13 14 15]\n",
      "[[ 1  2  3  4  5]\n",
      " [ 6  7  8  9 10]\n",
      " [11 12 13 14 15]]\n",
      "[[3 4]\n",
      " [8 9]]\n"
     ]
    }
   ],
   "source": [
    "# 创建一个3行5列的数组，元素值从1到15\n",
    "arr3=np.arange(1,16)\n",
    "print ('arr3_1d=',arr3)\n",
    "arr3.shape=(3,5) #将arr3的行列设置为3行5列\n",
    "print (arr3)\n",
    "arr4=arr3[:2,2:4].copy()\n",
    "print(arr4)"
   ]
  },
  {
   "cell_type": "markdown",
   "metadata": {},
   "source": [
    "## 3. 读取文件"
   ]
  },
  {
   "cell_type": "code",
   "execution_count": 65,
   "metadata": {},
   "outputs": [
    {
     "name": "stdout",
     "output_type": "stream",
     "text": [
      "[[  7.4     0.7     0.    ...,   0.56    9.4     5.   ]\n",
      " [  7.8     0.88    0.    ...,   0.68    9.8     5.   ]\n",
      " [  7.8     0.76    0.04  ...,   0.65    9.8     5.   ]\n",
      " ..., \n",
      " [  6.3     0.51    0.13  ...,   0.75   11.      6.   ]\n",
      " [  5.9     0.645   0.12  ...,   0.71   10.2     5.   ]\n",
      " [  6.      0.31    0.47  ...,   0.66   11.      6.   ]]\n"
     ]
    }
   ],
   "source": [
    "wine_data=np.genfromtxt('/Users/dengsudden/Documents/python_course/winequality-red.txt',delimiter=';',skip_header=1)\n",
    "print (wine_data)"
   ]
  },
  {
   "cell_type": "code",
   "execution_count": 68,
   "metadata": {},
   "outputs": [
    {
     "data": {
      "text/plain": [
       "(1599, 12)"
      ]
     },
     "execution_count": 68,
     "metadata": {},
     "output_type": "execute_result"
    }
   ],
   "source": [
    "wine_data.dtype\n",
    "wine_data.shape"
   ]
  },
  {
   "cell_type": "code",
   "execution_count": 74,
   "metadata": {},
   "outputs": [
    {
     "name": "stdout",
     "output_type": "stream",
     "text": [
      "[[  3.51   9.4    5.  ]\n",
      " [  3.2    9.8    5.  ]\n",
      " [  3.26   9.8    5.  ]\n",
      " [  3.16   9.8    6.  ]\n",
      " [  3.51   9.4    5.  ]\n",
      " [  3.51   9.4    5.  ]\n",
      " [  3.3    9.4    5.  ]\n",
      " [  3.39  10.     7.  ]\n",
      " [  3.36   9.5    7.  ]\n",
      " [  3.35  10.5    5.  ]]\n"
     ]
    }
   ],
   "source": [
    "wine=wine_data[:10,[8,10,11]] #取wine_data数组前十行的第9，11，12列元素（分别表示红酒PH值，酒精度，质量评分）\n",
    "print (wine)"
   ]
  },
  {
   "cell_type": "markdown",
   "metadata": {},
   "source": [
    "## 4. 布尔型索引\n",
    "     - 索引：通过指定的行列值来取一个数组的一部分\n",
    "     - 布尔型索引：通过一个布尔型数组(True,False)，来取一个数组（假设是数组A）的一部分\n",
    "     - 当数组A中元素对应位置的布尔型值为True时，我们保留改位置的元素，否则不保留"
   ]
  },
  {
   "cell_type": "code",
   "execution_count": 83,
   "metadata": {},
   "outputs": [
    {
     "name": "stdout",
     "output_type": "stream",
     "text": [
      "[False False False  True False False False  True  True False]\n"
     ]
    },
    {
     "data": {
      "text/plain": [
       "array([[  3.16,   9.8 ,   6.  ],\n",
       "       [  3.39,  10.  ,   7.  ],\n",
       "       [  3.36,   9.5 ,   7.  ]])"
      ]
     },
     "execution_count": 83,
     "metadata": {},
     "output_type": "execute_result"
    }
   ],
   "source": [
    "# 选取红酒质量评分高于5的红酒数据\n",
    "arr5=wine[:,2]>5 #arr5表示wine数组中第3列值大于5的元素的索引位置\n",
    "print(arr5)\n",
    "wine[arr5] #取wine数组中，arr5值为True的元素位置对应的元素\n",
    "wine[wine[:,2]>5] #也可直接这样写"
   ]
  },
  {
   "cell_type": "code",
   "execution_count": 88,
   "metadata": {},
   "outputs": [
    {
     "name": "stdout",
     "output_type": "stream",
     "text": [
      "[False False False False False False False  True False False]\n"
     ]
    },
    {
     "data": {
      "text/plain": [
       "array([[  3.39,  10.  ,   7.  ]])"
      ]
     },
     "execution_count": 88,
     "metadata": {},
     "output_type": "execute_result"
    }
   ],
   "source": [
    "# 选取红酒质量评分大于5且酒精度数大于等于10的红酒数据\n",
    "arr6=(wine[:,2]>5) & (wine[:,1]>=10) #评分大于5且酒精度数大于10的元素对应值为True\n",
    "print(arr6)\n",
    "wine[arr6] #找到评分大于5且酒精度数大于10的元素\n",
    "wine[(wine[:,2]>5)&(wine[:,1]>=10)] #也可直接这样写"
   ]
  },
  {
   "cell_type": "markdown",
   "metadata": {},
   "source": [
    "## 5. 数组的运算\n",
    "    - Numpy数组的运算针对数组中的每一个元素\n",
    "    - List的运算只针对list，而非list中的元素\n",
    "    - 因此，numpy数组在元素运算方面更高效"
   ]
  },
  {
   "cell_type": "markdown",
   "metadata": {},
   "source": [
    "#### 5.1 数组与单个数之间的运算"
   ]
  },
  {
   "cell_type": "code",
   "execution_count": 123,
   "metadata": {},
   "outputs": [
    {
     "name": "stdout",
     "output_type": "stream",
     "text": [
      "[[ 9 15 11  4]\n",
      " [ 5  6 11 10]\n",
      " [ 6 14  6 15]]\n",
      "[[18 30 22  8]\n",
      " [10 12 22 20]\n",
      " [12 28 12 30]]\n",
      "The slowest run took 9.49 times longer than the fastest. This could mean that an intermediate result is being cached.\n",
      "100000 loops, best of 3: 3.3 µs per loop\n",
      "100000 loops, best of 3: 3.39 µs per loop\n",
      "The slowest run took 13.53 times longer than the fastest. This could mean that an intermediate result is being cached.\n",
      "1000000 loops, best of 3: 984 ns per loop\n"
     ]
    }
   ],
   "source": [
    "arr7=np.random.randint(2,17,size=(3,4))\n",
    "print (arr7)\n",
    "print (arr7*2)  #Numpy数组的运算是针对数组中的每一个元素的\n",
    "arr7_list=list(arr7)\n",
    "#print (arr7_list)\n",
    "arr7_list*2   #List的运算只针对list，而非list中的元素\n",
    "%timeit [s*2 for s in arr7_list] #为了使list中的每个元素像numpy数组一样都被运算一次，需要使用列表解析或循环\n",
    "%timeit [s*2 for s in arr7_list] #预估代码执行时间\n",
    "%timeit arr7*2  #numpy数组运算比list运算高效得多！！"
   ]
  },
  {
   "cell_type": "markdown",
   "metadata": {},
   "source": [
    "#### 5.2 数组与数组之间的运算"
   ]
  },
  {
   "cell_type": "code",
   "execution_count": 134,
   "metadata": {},
   "outputs": [
    {
     "name": "stdout",
     "output_type": "stream",
     "text": [
      "[[ 1  3  5  7]\n",
      " [ 9 11 13 15]\n",
      " [17 19 21 23]]\n"
     ]
    },
    {
     "data": {
      "text/plain": [
       "array([[ 2,  6, 10, 14],\n",
       "       [18, 22, 26, 30],\n",
       "       [34, 38, 42, 46]])"
      ]
     },
     "execution_count": 134,
     "metadata": {},
     "output_type": "execute_result"
    }
   ],
   "source": [
    "arr8=np.arange(1,25,2).reshape(3,4)\n",
    "#arr8.shape=(3,4)\n",
    "print (arr8)\n",
    "arr8+arr8 \n",
    "np.add(arr8,arr8) #与上一行代码等价"
   ]
  },
  {
   "cell_type": "code",
   "execution_count": 117,
   "metadata": {},
   "outputs": [
    {
     "name": "stdout",
     "output_type": "stream",
     "text": [
      "[[  3.51   9.4    5.  ]\n",
      " [  3.2    9.8    5.  ]\n",
      " [  3.26   9.8    5.  ]\n",
      " [  3.16   9.8    6.  ]\n",
      " [  3.51   9.4    5.  ]\n",
      " [  3.51   9.4    5.  ]\n",
      " [  3.3    9.4    5.  ]\n",
      " [  3.39  10.     7.  ]\n",
      " [  3.36   9.5    7.  ]\n",
      " [  3.35  10.5    5.  ]]\n"
     ]
    },
    {
     "data": {
      "text/plain": [
       "array([[ 0.  ,  0.  ,  0.  ],\n",
       "       [-0.31,  0.4 ,  0.  ],\n",
       "       [-0.25,  0.4 ,  0.  ],\n",
       "       [-0.35,  0.4 ,  1.  ],\n",
       "       [ 0.  ,  0.  ,  0.  ],\n",
       "       [ 0.  ,  0.  ,  0.  ],\n",
       "       [-0.21,  0.  ,  0.  ],\n",
       "       [-0.12,  0.6 ,  2.  ],\n",
       "       [-0.15,  0.1 ,  2.  ],\n",
       "       [-0.16,  1.1 ,  0.  ]])"
      ]
     },
     "execution_count": 117,
     "metadata": {},
     "output_type": "execute_result"
    }
   ],
   "source": [
    "print (wine)\n",
    "wine-wine[0] #将数组wine中的每一行数据与wine的第0行相减（由于两个相减的数组大小不同，这样的运算叫——广播）"
   ]
  },
  {
   "cell_type": "markdown",
   "metadata": {},
   "source": [
    "## 6. 常用函数举例"
   ]
  },
  {
   "cell_type": "code",
   "execution_count": 121,
   "metadata": {},
   "outputs": [
    {
     "name": "stdout",
     "output_type": "stream",
     "text": [
      "[  8.31963727   0.52782051   0.27097561   2.5388055    0.08746654\n",
      "  15.87492183  46.46779237   0.99674668   3.3111132    0.65814884\n",
      "  10.42298311   5.63602251]\n"
     ]
    },
    {
     "data": {
      "text/plain": [
       "array([  8.31963727,   0.52782051,   0.27097561,   2.5388055 ,\n",
       "         0.08746654,  15.87492183,  46.46779237,   0.99674668,\n",
       "         3.3111132 ,   0.65814884,  10.42298311,   5.63602251])"
      ]
     },
     "execution_count": 121,
     "metadata": {},
     "output_type": "execute_result"
    }
   ],
   "source": [
    "#计算红酒数据中，每列数据的均值\n",
    "print (np.mean(wine_data,axis=0))\n",
    "np.sum(wine_data,axis=0)/len(wine_data)  #与上一行代码等价"
   ]
  },
  {
   "cell_type": "code",
   "execution_count": 128,
   "metadata": {},
   "outputs": [
    {
     "data": {
      "text/plain": [
       "array([  9.4,   9.4,   9.4,   9.4,   9.5,   9.8,   9.8,   9.8,  10. ,  10.5])"
      ]
     },
     "execution_count": 128,
     "metadata": {},
     "output_type": "execute_result"
    }
   ],
   "source": [
    "np.unique(wine[:,2])\n",
    "np.sort(wine[:,1])"
   ]
  },
  {
   "cell_type": "code",
   "execution_count": 133,
   "metadata": {},
   "outputs": [
    {
     "name": "stdout",
     "output_type": "stream",
     "text": [
      "['Bad', 'Bad', 'Bad', 'Good', 'Bad', 'Bad', 'Bad', 'Good', 'Good', 'Bad']\n",
      "['Bad' 'Bad' 'Bad' 'Good' 'Bad' 'Bad' 'Bad' 'Good' 'Good' 'Bad']\n"
     ]
    }
   ],
   "source": [
    "#若红酒评分大于5，返回Good，若小于等于5，则返回Bad\n",
    "#方法一：使用列表解析的方式实现（更耗时）\n",
    "print ([('Good' if s>5 else 'Bad') for s in wine[:,2]] )\n",
    "#方法二：使用numpy运算实现（更高效）\n",
    "print (np.where(wine[:,2]>5,'Good','Bad'))"
   ]
  },
  {
   "cell_type": "markdown",
   "metadata": {},
   "source": [
    "## 作业\n",
    "    - 给出一组学生姓名，和他们对应的成绩，存储在下方数组中。请计算以下问题：\n",
    "        - 找出不及格的学生姓名（提示：使用布尔型索引）\n",
    "        - 找出最高分、最低分，平均分数\n",
    "        - 将数值成绩转化成字母成绩，大于等于90分为A， 70-89分为B，小于70分为C"
   ]
  },
  {
   "cell_type": "code",
   "execution_count": 150,
   "metadata": {},
   "outputs": [
    {
     "name": "stdout",
     "output_type": "stream",
     "text": [
      "Max Score is 95\n",
      "Min Score is 55\n",
      "Average Score is 78.7\n",
      "成绩的方差为 132.81\n",
      "成绩的标准差为 11.5243221059\n",
      "['A' 'C' 'B' 'C' 'A' 'B' 'C' 'B' 'B' 'B']\n",
      "['A', 'C', 'B', 'C', 'A', 'B', 'C', 'B', 'B', 'B']\n",
      "['A', 'C', 'B', 'C', 'A', 'B', 'C', 'B', 'B', 'B']\n",
      "The slowest run took 7.26 times longer than the fastest. This could mean that an intermediate result is being cached.\n",
      "100000 loops, best of 3: 7.54 µs per loop\n",
      "100000 loops, best of 3: 4.83 µs per loop\n",
      "10000000 loops, best of 3: 35.6 ns per loop\n"
     ]
    }
   ],
   "source": [
    "names = np.array([\"Xiao Ming\",\"Xiao Zhang\",\"Xiao Gang\",\"Xiao Hong\",\"Xiao Pang\",\"Xiao Wu\",\"Xiao Dai\",\n",
    "                  \"Xiao Qian\",\"Xiao Fan\",\"Xiao Wang\"])\n",
    "scores = np.array([ 91,  68,  84,  55,  95,  81,  67,  82,  86,  78])\n",
    "\n",
    "# 不及格学生姓名\n",
    "names[scores<60] #score数组中元素值小于60分的索引位置返回True，然后返回索引位置值为True的names数组的元素值\n",
    "\n",
    "# 最高分／最低分／平均分\n",
    "print ('Max Score is',np.max(scores))\n",
    "print ('Min Score is',np.min(scores))\n",
    "print ('Average Score is',np.mean(scores))\n",
    "print ('成绩的方差为',np.var(scores))\n",
    "print ('成绩的标准差为',np.std(scores))\n",
    "\n",
    "\n",
    "# 数组转化为字母成绩\n",
    "#方法一：np.where嵌套\n",
    "print (np.where(scores>=90,'A',np.where(scores<70,'C','B')))\n",
    "\n",
    "#方法二：列表解析\n",
    "print (['A' if s>=90 else 'C' if s<70 else 'B' for s in scores])\n",
    "\n",
    "#方法三：循环\n",
    "rank=[]\n",
    "for s in scores:\n",
    "    if s>=90:\n",
    "        rank.append('A')\n",
    "    elif s>=70:\n",
    "        rank.append('B')\n",
    "    else:\n",
    "        rank.append('C')\n",
    "\n",
    "print (rank)\n",
    "\n",
    "# 用%timeit评估3中方法的运算速度\n",
    "%timeit np.where(scores>=90,'A',np.where(scores<70,'C','B'))\n",
    "%timeit ['A' if s>=90 else 'C' if s<70 else 'B' for s in scores]\n",
    "%timeit rank=[]\n",
    "for s in scores:\n",
    "    if s>=90:\n",
    "        rank.append('A')\n",
    "    elif s>=70:\n",
    "        rank.append('B')\n",
    "    else:\n",
    "        rank.append('C')\n",
    "# 发现对于小数据量的数组，用循环的方式更高效，对于大数据了的数组，用numpy函数运算更高效"
   ]
  }
 ],
 "metadata": {
  "kernelspec": {
   "display_name": "Python 3",
   "language": "python",
   "name": "python3"
  },
  "language_info": {
   "codemirror_mode": {
    "name": "ipython",
    "version": 3
   },
   "file_extension": ".py",
   "mimetype": "text/x-python",
   "name": "python",
   "nbconvert_exporter": "python",
   "pygments_lexer": "ipython3",
   "version": "3.6.1"
  }
 },
 "nbformat": 4,
 "nbformat_minor": 2
}
