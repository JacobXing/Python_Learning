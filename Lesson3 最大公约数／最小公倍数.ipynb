{
 "cells": [
  {
   "cell_type": "code",
   "execution_count": 1,
   "metadata": {},
   "outputs": [
    {
     "name": "stdout",
     "output_type": "stream",
     "text": [
      "2.375\n"
     ]
    }
   ],
   "source": [
    "print(19/8)"
   ]
  },
  {
   "cell_type": "code",
   "execution_count": 2,
   "metadata": {},
   "outputs": [
    {
     "name": "stdout",
     "output_type": "stream",
     "text": [
      "4\n"
     ]
    }
   ],
   "source": [
    "print(18%7)"
   ]
  },
  {
   "cell_type": "code",
   "execution_count": 6,
   "metadata": {},
   "outputs": [
    {
     "name": "stdout",
     "output_type": "stream",
     "text": [
      "194.87171000000012\n"
     ]
    }
   ],
   "source": [
    "print(100*1.1**7)"
   ]
  },
  {
   "cell_type": "code",
   "execution_count": 7,
   "metadata": {},
   "outputs": [
    {
     "name": "stdout",
     "output_type": "stream",
     "text": [
      "Nice course!\n"
     ]
    }
   ],
   "source": [
    "print(\"Nice course!\")"
   ]
  },
  {
   "cell_type": "code",
   "execution_count": 8,
   "metadata": {},
   "outputs": [
    {
     "name": "stdout",
     "output_type": "stream",
     "text": [
      "Thank you\n"
     ]
    }
   ],
   "source": [
    "print(\"Thank you\")"
   ]
  },
  {
   "cell_type": "code",
   "execution_count": 2,
   "metadata": {},
   "outputs": [
    {
     "name": "stdout",
     "output_type": "stream",
     "text": [
      "True\n"
     ]
    }
   ],
   "source": [
    "z=3>12-10\n",
    "print (z)"
   ]
  },
  {
   "cell_type": "code",
   "execution_count": 6,
   "metadata": {},
   "outputs": [
    {
     "data": {
      "text/plain": [
       "'nr'"
      ]
     },
     "execution_count": 6,
     "metadata": {},
     "output_type": "execute_result"
    }
   ],
   "source": [
    "letter=\"congratulations\"\n",
    "letter[2:6:2]"
   ]
  },
  {
   "cell_type": "code",
   "execution_count": 7,
   "metadata": {},
   "outputs": [
    {
     "data": {
      "text/plain": [
       "[0, 1, 2, 3, 4, 5, 6, 7, 8]"
      ]
     },
     "execution_count": 7,
     "metadata": {},
     "output_type": "execute_result"
    }
   ],
   "source": [
    "list(range(9))"
   ]
  },
  {
   "cell_type": "code",
   "execution_count": 9,
   "metadata": {},
   "outputs": [
    {
     "data": {
      "text/plain": [
       "0"
      ]
     },
     "execution_count": 9,
     "metadata": {},
     "output_type": "execute_result"
    }
   ],
   "source": [
    "min(range(8))"
   ]
  },
  {
   "cell_type": "code",
   "execution_count": 7,
   "metadata": {},
   "outputs": [
    {
     "name": "stdout",
     "output_type": "stream",
     "text": [
      "hello\n"
     ]
    }
   ],
   "source": [
    "print(\"hello\")"
   ]
  },
  {
   "cell_type": "markdown",
   "metadata": {},
   "source": [
    "### 找出最小公倍数（死循环）"
   ]
  },
  {
   "cell_type": "code",
   "execution_count": 21,
   "metadata": {},
   "outputs": [
    {
     "name": "stdout",
     "output_type": "stream",
     "text": [
      "3744\n"
     ]
    }
   ],
   "source": [
    "n1=48\n",
    "n2=78\n",
    "max = 48*78\n",
    "\n",
    "# 这里开始陷入死循环，因为while条件始终成立，且无break退出循环\n",
    "#while max>=n1 and max >=n2:\n",
    "#    if max%n1==0 and max%n2==0:\n",
    "#        max-=1\n",
    "\n",
    "print (max)"
   ]
  },
  {
   "cell_type": "code",
   "execution_count": 10,
   "metadata": {},
   "outputs": [
    {
     "name": "stdout",
     "output_type": "stream",
     "text": [
      "624\n"
     ]
    }
   ],
   "source": [
    "n1 = 48\n",
    "n2 = 78\n",
    "if n1 > n2:\n",
    "    greater = n1\n",
    "else:\n",
    "    greater = n2\n",
    "    \n",
    "while True:\n",
    "    if greater%n1 == 0 and greater%n2 == 0:\n",
    "        m = greater # m表示最大公约数\n",
    "        break\n",
    "    else:\n",
    "        greater+=1\n",
    "print (m)"
   ]
  },
  {
   "cell_type": "markdown",
   "metadata": {},
   "source": [
    "### 找出最小公倍数／最大公约数"
   ]
  },
  {
   "cell_type": "code",
   "execution_count": 13,
   "metadata": {},
   "outputs": [
    {
     "name": "stdout",
     "output_type": "stream",
     "text": [
      "请输入第一个数字：3\n",
      "请输入第二个数字：9\n",
      "3 和 9 最小公倍数是: 9\n",
      "3 和 9 最大公约数是: 3\n"
     ]
    }
   ],
   "source": [
    "# 定义一个函数fm()，用于寻找用户输入数值的最小公倍数\n",
    "def fm(n1,n2):\n",
    "    if n1 > n2:\n",
    "        greater = n1\n",
    "    else:\n",
    "        greater = n2\n",
    "    \n",
    "    while True:\n",
    "        if greater%n1 == 0 and greater%n2 == 0:\n",
    "            m = greater # m表示最小公倍数\n",
    "            break  \n",
    "            # while True这种无限循环的语句中，一定要有break这样的语句来退出循环，否则python进入死循环\n",
    "        else:\n",
    "            greater+=1\n",
    "    return m\n",
    "\n",
    "# 定义一个函数fl()，用于寻找用户输入数值的最大公约数\n",
    "def fl(n1,n2):\n",
    "    if n1 < n2:\n",
    "        smaller = n1\n",
    "    else:\n",
    "        smaller = n2\n",
    "    \n",
    "    while True:\n",
    "        if n1%smaller == 0 and n2%smaller == 0:\n",
    "            l = smaller # m表示最大公越数\n",
    "            break  \n",
    "            # while True这种无限循环的语句中，一定要有break这样的语句来退出循环，否则python进入死循环\n",
    "        else:\n",
    "            smaller-=1\n",
    "    return l\n",
    "\n",
    "# 使用自定义函数fm(), fl()\n",
    "n1 = int(input(\"请输入第一个数字：\"))\n",
    "n2 = int(input(\"请输入第二个数字：\"))\n",
    "m = fm(n1,n2)\n",
    "l = fl(n1,n2)\n",
    "\n",
    "print (n1,\"和\",n2,\"的最小公倍数是:\",m)\n",
    "print (n1,\"和\",n2,\"的最大公约数是:\",l)"
   ]
  },
  {
   "cell_type": "markdown",
   "metadata": {},
   "source": [
    "### 找出3个数字的最小公倍数"
   ]
  },
  {
   "cell_type": "code",
   "execution_count": 20,
   "metadata": {},
   "outputs": [
    {
     "name": "stdout",
     "output_type": "stream",
     "text": [
      "请输入第一个数字：3\n",
      "请输入第二个数字：6\n",
      "请输入第三个数字：9\n",
      "3 和 6 和 9 的最小公倍数是: 18\n"
     ]
    }
   ],
   "source": [
    "# 定义一个函数fm()，用于寻找用户输入数值的最小公倍数\n",
    "def fm(n1,n2,n3):\n",
    "    if n1>=n2 and n1>=n3:\n",
    "        greater=n1\n",
    "    elif n2>=n1 and n2>=n3:\n",
    "        greater=n2\n",
    "    else:\n",
    "        greater=n3    \n",
    "    \n",
    "    while True:\n",
    "        if greater%n1 == 0 and greater%n2 == 0 and greater%n3 ==0:\n",
    "            m = greater # m表示最小公倍数\n",
    "            break  \n",
    "            # while True这种无限循环的语句中，一定要有break这样的语句来退出循环，否则python进入死循环\n",
    "        else:\n",
    "            greater+=1\n",
    "    return m\n",
    "\n",
    "\n",
    "# 使用自定义函数fm()\n",
    "n1 = int(input(\"请输入第一个数字：\"))\n",
    "n2 = int(input(\"请输入第二个数字：\"))\n",
    "n3 = int(input(\"请输入第三个数字：\"))\n",
    "m = fm(n1,n2,n3)\n",
    "\n",
    "print (n1,\"和\",n2,\"和\",n3,\"的最小公倍数是:\",m)"
   ]
  },
  {
   "cell_type": "code",
   "execution_count": null,
   "metadata": {
    "collapsed": true
   },
   "outputs": [],
   "source": []
  }
 ],
 "metadata": {
  "kernelspec": {
   "display_name": "Python 3",
   "language": "python",
   "name": "python3"
  },
  "language_info": {
   "codemirror_mode": {
    "name": "ipython",
    "version": 3
   },
   "file_extension": ".py",
   "mimetype": "text/x-python",
   "name": "python",
   "nbconvert_exporter": "python",
   "pygments_lexer": "ipython3",
   "version": "3.6.4"
  }
 },
 "nbformat": 4,
 "nbformat_minor": 2
}
