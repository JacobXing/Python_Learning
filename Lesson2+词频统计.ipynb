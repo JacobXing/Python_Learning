{
 "cells": [
  {
   "cell_type": "markdown",
   "metadata": {},
   "source": [
    "# Lesson2 Practice"
   ]
  },
  {
   "cell_type": "markdown",
   "metadata": {},
   "source": [
    "## 寻找一组词中，词频最高的词"
   ]
  },
  {
   "cell_type": "code",
   "execution_count": 3,
   "metadata": {
    "scrolled": true
   },
   "outputs": [
    {
     "name": "stdout",
     "output_type": "stream",
     "text": [
      "['Life', 'has', 'us', 'taught', 'us', 'that', 'love', 'the', 'does', 'in', 'not', 'consist', 'in', 'gazing', 'at', 'each', 'other', 'but', 'in', 'looking', 'outward', 'together', 'in', 'the', 'same', 'direction']\n"
     ]
    }
   ],
   "source": [
    "test=\"Life has us taught us that love the does in not consist in gazing at each other but in looking outward together in the same direction\"\n",
    "words=test.split()\n",
    "print(words)"
   ]
  },
  {
   "cell_type": "markdown",
   "metadata": {},
   "source": [
    "#### 获取不重复的单词列表"
   ]
  },
  {
   "cell_type": "code",
   "execution_count": 4,
   "metadata": {},
   "outputs": [
    {
     "name": "stdout",
     "output_type": "stream",
     "text": [
      "['Life', 'has', 'us', 'taught', 'that', 'love', 'the', 'does', 'in', 'not', 'consist', 'gazing', 'at', 'each', 'other', 'but', 'looking', 'outward', 'together', 'same', 'direction']\n"
     ]
    }
   ],
   "source": [
    "unique_words=list()\n",
    "\n",
    "for word in words:\n",
    "    if word not in unique_words:\n",
    "        unique_words.append(word)\n",
    "        \n",
    "print(unique_words)"
   ]
  },
  {
   "cell_type": "markdown",
   "metadata": {},
   "source": [
    "#### 结合list.index(a), counts[index]统计词频"
   ]
  },
  {
   "cell_type": "code",
   "execution_count": 5,
   "metadata": {},
   "outputs": [
    {
     "name": "stdout",
     "output_type": "stream",
     "text": [
      "[1, 1, 2, 1, 1, 1, 2, 1, 4, 1, 1, 1, 1, 1, 1, 1, 1, 1, 1, 1, 1]\n"
     ]
    }
   ],
   "source": [
    "counts=[0]*len(unique_words) # 初始化词频列表\n",
    "\n",
    "for word in words:\n",
    "    index=unique_words.index(word) # 找到unique_words中元素值为word的元素所对应的index\n",
    "    counts[index]+=1 # 在找到的index位置上计数加一\n",
    "    \n",
    "print(counts)"
   ]
  },
  {
   "cell_type": "markdown",
   "metadata": {},
   "source": [
    "#### 找到counts中的最大值对应的词"
   ]
  },
  {
   "cell_type": "code",
   "execution_count": 6,
   "metadata": {},
   "outputs": [
    {
     "name": "stdout",
     "output_type": "stream",
     "text": [
      "in 4\n"
     ]
    }
   ],
   "source": [
    "bigcount=None\n",
    "bigword=None\n",
    "\n",
    "for i in range(len(counts)):\n",
    "    if bigcount is None or bigcount<counts[i]:\n",
    "        bigcount=counts[i]\n",
    "        bigword=unique_words[i]\n",
    "\n",
    "print(bigword,bigcount)"
   ]
  },
  {
   "cell_type": "markdown",
   "metadata": {},
   "source": [
    "### practice 2\n",
    "以下给出一个团队中成员名和他们各自的微信好友数量，请模仿上述词频的例子，通过for循环找出团队中好友数最多和最少的两个人。"
   ]
  },
  {
   "cell_type": "code",
   "execution_count": 9,
   "metadata": {},
   "outputs": [
    {
     "name": "stdout",
     "output_type": "stream",
     "text": [
      "小李微信朋友最多\n",
      "小张微信朋友最少\n"
     ]
    }
   ],
   "source": [
    "names = ['小赵','小钱','小孙','小李','小王','小张']\n",
    "friends = [45, 100, 67, 136, 77, 17]\n",
    "\n",
    "max_num=None\n",
    "max_loc=None\n",
    "min_num=None\n",
    "min_loc=None\n",
    "\n",
    "for f in friends:\n",
    "    if max_num is None or max_num<f:\n",
    "        max_num=f\n",
    "        max_loc=friends.index(f)\n",
    "    if min_num is None or min_num>f:\n",
    "        min_num=f\n",
    "        min_loc=friends.index(f)\n",
    "\n",
    "max_name=names[max_loc]\n",
    "min_name=names[min_loc]\n",
    "print(max_name+\"微信朋友最多\")\n",
    "print(min_name+\"微信朋友最少\")"
   ]
  },
  {
   "cell_type": "markdown",
   "metadata": {},
   "source": [
    "### practice 2 方法2"
   ]
  },
  {
   "cell_type": "code",
   "execution_count": 11,
   "metadata": {},
   "outputs": [
    {
     "name": "stdout",
     "output_type": "stream",
     "text": [
      "小李微信朋友最多\n",
      "小张微信朋友最少\n"
     ]
    }
   ],
   "source": [
    "maxfriend=max(friends)\n",
    "minfriend=min(friends)\n",
    "\n",
    "max_name2=names[friends.index(maxfriend)]\n",
    "min_name2=names[friends.index(minfriend)]\n",
    "\n",
    "print(max_name2+\"微信朋友最多\")\n",
    "print(min_name2+\"微信朋友最少\")"
   ]
  },
  {
   "cell_type": "markdown",
   "metadata": {},
   "source": [
    "***"
   ]
  },
  {
   "cell_type": "markdown",
   "metadata": {},
   "source": [
    "# Lesson3 Practice（dict | list）"
   ]
  },
  {
   "cell_type": "markdown",
   "metadata": {},
   "source": [
    "### 寻找一组词中，词频最高的词，用字典dict"
   ]
  },
  {
   "cell_type": "code",
   "execution_count": 12,
   "metadata": {},
   "outputs": [
    {
     "name": "stdout",
     "output_type": "stream",
     "text": [
      "['Life', 'has', 'us', 'taught', 'us', 'that', 'love', 'the', 'does', 'in', 'not', 'consist', 'in', 'gazing', 'at', 'each', 'other', 'but', 'in', 'looking', 'outward', 'together', 'in', 'the', 'same', 'direction']\n"
     ]
    }
   ],
   "source": [
    "print(words)"
   ]
  },
  {
   "cell_type": "code",
   "execution_count": 13,
   "metadata": {},
   "outputs": [
    {
     "name": "stdout",
     "output_type": "stream",
     "text": [
      "{'Life': 1, 'has': 1, 'us': 2, 'taught': 1, 'that': 1, 'love': 1, 'the': 2, 'does': 1, 'in': 4, 'not': 1, 'consist': 1, 'gazing': 1, 'at': 1, 'each': 1, 'other': 1, 'but': 1, 'looking': 1, 'outward': 1, 'together': 1, 'same': 1, 'direction': 1}\n"
     ]
    }
   ],
   "source": [
    "# 构造 word-词频 字典\n",
    "counts_dict=dict()\n",
    "\n",
    "for word in words:\n",
    "    counts_dict[word]=counts_dict.get(word,0)+1 # counts_dict中key为word的value表示该word出现的次数，第一次赋值时要用0初始化\n",
    "\n",
    "print(counts_dict)"
   ]
  },
  {
   "cell_type": "code",
   "execution_count": 24,
   "metadata": {},
   "outputs": [
    {
     "name": "stdout",
     "output_type": "stream",
     "text": [
      "in 4\n"
     ]
    }
   ],
   "source": [
    "bigc=None\n",
    "bigw=None\n",
    "\n",
    "for word,count in counts_dict.items():\n",
    "    if bigc is None or count>bigc:\n",
    "        bigw=word\n",
    "        bigc=count\n",
    "\n",
    "print(bigw,bigc)\n",
    "# print(counts_dict.items())"
   ]
  },
  {
   "cell_type": "code",
   "execution_count": null,
   "metadata": {
    "collapsed": true
   },
   "outputs": [],
   "source": []
  }
 ],
 "metadata": {
  "kernelspec": {
   "display_name": "Python 3",
   "language": "python",
   "name": "python3"
  },
  "language_info": {
   "codemirror_mode": {
    "name": "ipython",
    "version": 3
   },
   "file_extension": ".py",
   "mimetype": "text/x-python",
   "name": "python",
   "nbconvert_exporter": "python",
   "pygments_lexer": "ipython3",
   "version": "3.6.1"
  }
 },
 "nbformat": 4,
 "nbformat_minor": 2
}
